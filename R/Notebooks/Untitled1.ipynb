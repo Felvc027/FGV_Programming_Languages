{
 "cells": [
  {
   "cell_type": "code",
   "execution_count": 6,
   "metadata": {},
   "outputs": [
    {
     "data": {
      "text/plain": [
       "NIL"
      ]
     },
     "execution_count": 6,
     "metadata": {},
     "output_type": "execute_result"
    }
   ],
   "source": [
    "(pares (2 3 4 5 6 7 8 9))"
   ]
  },
  {
   "cell_type": "code",
   "execution_count": 18,
   "metadata": {},
   "outputs": [
    {
     "name": "stderr",
     "output_type": "stream",
     "text": [
      "; in:\n",
      ";      PROGN (DEFUN PARES (NUMBERS)\n",
      ";          (SETQ V 'NIL)\n",
      ";          (LOOP FOR X IN NUMBERS (IF (= (MOD X 2) 0)\n",
      ";                                     (NCONC V (LIST X)))))\n",
      ";     (LOOP CL-JUPYTER-USER::FOR CL-JUPYTER-USER::X CL-JUPYTER-USER::IN CL-JUPYTER-USER::NUMBERS (IF (=\n",
      " ;                                                                                                     (MOD\n",
      " ;                                                                                                      CL-JUPYTER-USER::X\n",
      " ;                                                                                                      2)\n",
      " ;                                                                                                     0)\n",
      " ;                                                                                                    (NCONC\n",
      " ;                                                                                                     CL-JUPYTER-USER::V\n",
      " ;                                                                                                     (LIST\n",
      " ;                                                                                                      CL-JUPYTER-USER::X))))\n",
      "\n",
      "; \n",
      " ; caught ERROR:\n",
      " ;   during macroexpansion of (LOOP FOR X ...). Use *BREAK-ON-SIGNALS* to intercept.\n",
      " ;   \n",
      " ;    (IF (= (MOD X 2) 0)\n",
      " ;        (NCONC V (LIST X))) found where LOOP keyword expected\n",
      " ;   current LOOP context: FOR X IN NUMBERS (IF (= (MOD X 2) 0)\n",
      " ;                                              (NCONC V (LIST X))).\n",
      "\n",
      "SIMPLE-STYLE-WARNING: \n",
      "  The variable NUMBERS is defined but never used.\n",
      "\n",
      "SIMPLE-WARNING: \n",
      "undefined variable: V\n",
      "; \n",
      " ; compilation unit finished\n",
      " ;   Undefined variable:\n",
      " ;     V\n",
      " ;   caught 1 ERROR condition\n",
      "\n",
      "REDEFINITION-WITH-DEFUN: \n",
      "  redefining CL-JUPYTER-USER::PARES in DEFUN\n",
      "; in:\n",
      " ;      PROGN (DEFUN PARES (NUMBERS)\n",
      " ;          (SETQ V 'NIL)\n",
      " ;          (LOOP FOR X IN NUMBERS (IF (= (MOD X 2) 0)\n",
      " ;                                     (NCONC V (LIST X)))))\n",
      ";     (RETURN-FROM CL-JUPYTER-USER::PARES CL-JUPYTER-USER::V)\n",
      "\n",
      "; \n",
      " ; caught ERROR:\n",
      " ;   return for unknown block: PARES\n",
      "; \n",
      " ; compilation unit finished\n",
      " ;   caught 1 ERROR condition\n",
      "\n",
      "COMPILED-PROGRAM-ERROR: \n",
      "  #<SB-INT:COMPILED-PROGRAM-ERROR {100865F5B3}>\n"
     ]
    },
    {
     "data": {
      "text/plain": [
       "NIL"
      ]
     },
     "execution_count": 18,
     "metadata": {},
     "output_type": "execute_result"
    }
   ],
   "source": [
    "(defun pares (numbers)\n",
    "    (setq v '() )    \n",
    "    (loop for x in numbers\n",
    "          (if (= (mod x 2) 0) (nconc v (list x)))\n",
    "    )\n",
    "    (return-from pares v)\n",
    ")\n",
    "\n",
    "        \n",
    "              "
   ]
  },
  {
   "cell_type": "code",
   "execution_count": null,
   "metadata": {},
   "outputs": [],
   "source": []
  }
 ],
 "metadata": {
  "kernelspec": {
   "display_name": "SBCL Lisp",
   "language": "lisp",
   "name": "clisp"
  },
  "language_info": {
   "codemirror_mode": "text/x-common-lisp",
   "mimetype": "text/x-common-lisp",
   "name": "common-lisp",
   "pygments_lexer": "common-lisp",
   "version": "X3J13"
  }
 },
 "nbformat": 4,
 "nbformat_minor": 2
}
