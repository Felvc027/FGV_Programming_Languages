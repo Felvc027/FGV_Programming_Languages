{
 "cells": [
  {
   "cell_type": "markdown",
   "metadata": {},
   "source": [
    "1 - Quais são as estruturas de dados primitivas mais comuns na linguagem Python? Exemplifique criando variáveis de cada uma destas estruturas."
   ]
  },
  {
   "cell_type": "code",
   "execution_count": 2,
   "metadata": {
    "collapsed": true
   },
   "outputs": [],
   "source": [
    "a = 1       # Tipo int\n",
    "b = 3.5       # Tipo float\n",
    "c = 1 + 3j       # Tipo complex\n",
    "string = 'Uma string'       # Tipo string\n",
    "lista = [1,2,3]       # Tipo lista\n",
    "tupla = (3,9,7)       # Tipo tupla\n",
    "conj = {13, 42, 'string', 4.72,5, 10, 17}        # tipo set\n",
    "dictionary = {'a':'inteiro','b':'float', 'c': 'complexo'}       # tipo dict\n",
    "booleano = 3 == 4       # tipo bool \n",
    "\n"
   ]
  },
  {
   "cell_type": "markdown",
   "metadata": {},
   "source": [
    "2 - Dê pelo menos 5 exemplos de conversões entre tipos de dados, utilizando as variáveis criadas na questão anterior  "
   ]
  },
  {
   "cell_type": "code",
   "execution_count": 3,
   "metadata": {},
   "outputs": [
    {
     "data": {
      "text/plain": [
       "(1, 2, 3)"
      ]
     },
     "execution_count": 3,
     "metadata": {},
     "output_type": "execute_result"
    }
   ],
   "source": [
    "tuple(lista)"
   ]
  },
  {
   "cell_type": "code",
   "execution_count": 4,
   "metadata": {},
   "outputs": [
    {
     "data": {
      "text/plain": [
       "[3, 9, 7]"
      ]
     },
     "execution_count": 4,
     "metadata": {},
     "output_type": "execute_result"
    }
   ],
   "source": [
    "list(tupla)"
   ]
  },
  {
   "cell_type": "code",
   "execution_count": 5,
   "metadata": {},
   "outputs": [
    {
     "data": {
      "text/plain": [
       "3"
      ]
     },
     "execution_count": 5,
     "metadata": {},
     "output_type": "execute_result"
    }
   ],
   "source": [
    "int(b)"
   ]
  },
  {
   "cell_type": "code",
   "execution_count": 6,
   "metadata": {},
   "outputs": [
    {
     "data": {
      "text/plain": [
       "'[1, 2, 3]'"
      ]
     },
     "execution_count": 6,
     "metadata": {},
     "output_type": "execute_result"
    }
   ],
   "source": [
    "str(lista)"
   ]
  },
  {
   "cell_type": "code",
   "execution_count": 7,
   "metadata": {},
   "outputs": [
    {
     "data": {
      "text/plain": [
       "1.0"
      ]
     },
     "execution_count": 7,
     "metadata": {},
     "output_type": "execute_result"
    }
   ],
   "source": [
    "float(a)"
   ]
  },
  {
   "cell_type": "markdown",
   "metadata": {},
   "source": [
    "3- Exemplifique o uso de algumas primitivas, de forma isolada ou combinada, para criar as seguintes estruturas de dados:  \n",
    "\n",
    "+ Um registro médico\n",
    "+ Uma matriz de pixels em formato RGB\n",
    "+ Um conjunto de coordenadas geográficas representando a sede da prefeitura e do corpo de bombeiros em 4 cidades diferentes"
   ]
  },
  {
   "cell_type": "code",
   "execution_count": 12,
   "metadata": {
    "collapsed": true
   },
   "outputs": [],
   "source": [
    "RegMed = {'Nome': 'Felipe','Peso': 67, 'Altura': 1.93}"
   ]
  },
  {
   "cell_type": "code",
   "execution_count": 50,
   "metadata": {},
   "outputs": [],
   "source": [
    "Pixels = [[[0,0,0],[0,0,0],[0,0,0],[0,0,0]],\n",
    "         [[0,0,0],[0,0,0],[0,0,0],[0,0,0]]] # Representação de uma tela simples com 8 pixels (2x4), toda preta."
   ]
  },
  {
   "cell_type": "code",
   "execution_count": 10,
   "metadata": {
    "collapsed": true
   },
   "outputs": [],
   "source": [
    "Coord = {'Cidade A': {'Prefeitura': (-29.3,-40.7), 'Corpo de Bombeiros': (-28.5, -41)}, 'Cidade B': {'Prefeitura': (2.4,46.9), 'Corpo de Bombeiros': (0.5, 47.3),}, 'Cidade C': {'Prefeitura': (92.7, -49.6), 'Corpo de Bombeiros': (93, -49.5)}, 'Cidade D': {'Prefeitura': (7.9, -10.6), 'Corpo de Bombeiros': (8.1, -10.9)}}"
   ]
  },
  {
   "cell_type": "markdown",
   "metadata": {},
   "source": [
    "4- Exemplifique o acesso aos elementos de informação das estruturas criadas na questão anterior."
   ]
  },
  {
   "cell_type": "code",
   "execution_count": 13,
   "metadata": {},
   "outputs": [
    {
     "data": {
      "text/plain": [
       "67"
      ]
     },
     "execution_count": 13,
     "metadata": {},
     "output_type": "execute_result"
    }
   ],
   "source": [
    "RegMed['Peso']"
   ]
  },
  {
   "cell_type": "code",
   "execution_count": 52,
   "metadata": {},
   "outputs": [
    {
     "data": {
      "text/plain": [
       "[0, 0, 0]"
      ]
     },
     "execution_count": 52,
     "metadata": {},
     "output_type": "execute_result"
    }
   ],
   "source": [
    "Pixels[1][3]"
   ]
  },
  {
   "cell_type": "code",
   "execution_count": 11,
   "metadata": {},
   "outputs": [
    {
     "data": {
      "text/plain": [
       "(2.4, 46.9)"
      ]
     },
     "execution_count": 11,
     "metadata": {},
     "output_type": "execute_result"
    }
   ],
   "source": [
    "Coord['Cidade B']['Prefeitura']"
   ]
  },
  {
   "cell_type": "markdown",
   "metadata": {},
   "source": [
    "5- Explique o que são, exemplifique, e mostre algumas características de:  \n",
    "\n",
    "+ Tipos mutáveis e tipos imutáveis  \n",
    "+ Tipos \"container\"\n",
    "+ Tipos sequenciais\n"
   ]
  },
  {
   "cell_type": "code",
   "execution_count": 53,
   "metadata": {},
   "outputs": [
    {
     "name": "stdout",
     "output_type": "stream",
     "text": [
      "\n",
      "Tipos mutáveis são aqueles que podem ser modificados por algum método.\n",
      "Ex.: Tipo lista e tipo conjunto.\n",
      "\n"
     ]
    }
   ],
   "source": [
    "print('''\n",
    "Tipos mutáveis são aqueles que podem ser modificados por algum método.\n",
    "Ex.: Tipo lista e tipo conjunto.\n",
    "''')\n",
    "\n",
    "\n",
    " "
   ]
  },
  {
   "cell_type": "code",
   "execution_count": 71,
   "metadata": {},
   "outputs": [
    {
     "name": "stdout",
     "output_type": "stream",
     "text": [
      "Tipos imutáveis são aqueles que não podem ser modificados\n",
      "Ex.: Tipos numéricos, string, tuple, etc.\n"
     ]
    }
   ],
   "source": [
    "print('''Tipos imutáveis são aqueles que não podem ser modificados\n",
    "Ex.: Tipos numéricos, string, tuple, etc.''')"
   ]
  },
  {
   "cell_type": "code",
   "execution_count": 72,
   "metadata": {},
   "outputs": [
    {
     "name": "stdout",
     "output_type": "stream",
     "text": [
      "Tipos container são aqueles que podem conter outros elementos nele.\n",
      "Ex.: Tipo list, set, tuple, etc.\n"
     ]
    }
   ],
   "source": [
    "print('''Tipos container são aqueles que podem conter outros elementos nele.\n",
    "Ex.: Tipo list, set, tuple, etc.''')"
   ]
  },
  {
   "cell_type": "code",
   "execution_count": 73,
   "metadata": {},
   "outputs": [
    {
     "name": "stdout",
     "output_type": "stream",
     "text": [
      "Tipos sequenciais são os tipos container que são ordenados.\n",
      "Ex.: Tipo lista e tipo set.\n"
     ]
    }
   ],
   "source": [
    "print('''Tipos sequenciais são os tipos container que são ordenados.\n",
    "Ex.: Tipo lista e tipo set.''')"
   ]
  },
  {
   "cell_type": "markdown",
   "metadata": {},
   "source": [
    "6- Exemplifique chamadas de métodos em variáveis associadas a tipos de dados que:  \n",
    "+ Não modifiquem a variável e não retornem valores à chamada do método \n",
    "+ Modifiquem a variável mas não retornem valores à chamada do método\n",
    "+ Não modifiquem a variável mas retornem valores à chamada do método\n",
    "+ Modifiquem a variável e retornem valores à chamada do método  "
   ]
  },
  {
   "cell_type": "code",
   "execution_count": 56,
   "metadata": {},
   "outputs": [
    {
     "name": "stdout",
     "output_type": "stream",
     "text": [
      "2\n",
      "None\n"
     ]
    }
   ],
   "source": [
    "f = 2\n",
    "g = print(f)\n",
    "print(g)\n",
    "            # Veja que f não foi modificado, e não foi retornado nada a g."
   ]
  },
  {
   "cell_type": "code",
   "execution_count": 58,
   "metadata": {},
   "outputs": [
    {
     "name": "stdout",
     "output_type": "stream",
     "text": [
      "[3, 2, 1]\n",
      "None\n"
     ]
    }
   ],
   "source": [
    "h = [1,2,3]\n",
    "i = h.reverse()\n",
    "print(h)\n",
    "print(i)      # Note que h foi modificado, mas nada foi atribuido a i."
   ]
  },
  {
   "cell_type": "code",
   "execution_count": 66,
   "metadata": {},
   "outputs": [
    {
     "name": "stdout",
     "output_type": "stream",
     "text": [
      "(43, 3, 87)\n",
      "1\n"
     ]
    }
   ],
   "source": [
    "j = (43,3,87)\n",
    "k = j.index(3)\n",
    "print(j)\n",
    "print(k)         # Veja que j não foi modificado, mas foi retornado um valor ao k."
   ]
  },
  {
   "cell_type": "code",
   "execution_count": 67,
   "metadata": {},
   "outputs": [
    {
     "name": "stdout",
     "output_type": "stream",
     "text": [
      "[7, 6]\n",
      "5\n"
     ]
    }
   ],
   "source": [
    "l = [7,6,5]\n",
    "m = l.pop()\n",
    "print(l)\n",
    "print(m)      # Note que l foi modificado e foi atribuído um valor a m."
   ]
  },
  {
   "cell_type": "markdown",
   "metadata": {},
   "source": [
    "7- Exemplifique o uso de métodos para:  \n",
    "+ Testar se uma string pode ser convertida para um inteiro  \n",
    "+ Testar se um conjunto é subconjunto de outro\n",
    "+ Concatenar duas listas\n",
    "+ Contar as ocorrências de um elemento em uma lista"
   ]
  },
  {
   "cell_type": "code",
   "execution_count": 23,
   "metadata": {},
   "outputs": [
    {
     "data": {
      "text/plain": [
       "True"
      ]
     },
     "execution_count": 23,
     "metadata": {},
     "output_type": "execute_result"
    }
   ],
   "source": [
    "numero = '2'\n",
    "numero.isnumeric()"
   ]
  },
  {
   "cell_type": "code",
   "execution_count": 29,
   "metadata": {},
   "outputs": [
    {
     "data": {
      "text/plain": [
       "True"
      ]
     },
     "execution_count": 29,
     "metadata": {},
     "output_type": "execute_result"
    }
   ],
   "source": [
    "conjA = {54, 'uma frase qualquer', 3 + 4j, 4.5, 4 != 3}\n",
    "conjB = {54, 3 + 4j, 4.5}\n",
    "conjB.issubset(conjA)"
   ]
  },
  {
   "cell_type": "code",
   "execution_count": 37,
   "metadata": {},
   "outputs": [
    {
     "data": {
      "text/plain": [
       "[8, 'mais uma string', (2, 3), False, 1j, {7, 14, 21}]"
      ]
     },
     "execution_count": 37,
     "metadata": {},
     "output_type": "execute_result"
    }
   ],
   "source": [
    "listA = [8, 'mais uma string', (2,3)]\n",
    "listB = [7 ** 2 == 14, 0 + 1j, {7,14,21}]\n",
    "listA.extend(listB)\n",
    "listA"
   ]
  },
  {
   "cell_type": "code",
   "execution_count": 42,
   "metadata": {},
   "outputs": [
    {
     "data": {
      "text/plain": [
       "5"
      ]
     },
     "execution_count": 42,
     "metadata": {},
     "output_type": "execute_result"
    }
   ],
   "source": [
    "listNum = [6,3,8,4,1,3,7,0,6,98,4,6,2,1,4,6,7,4,6,5,3,5,2,9,0,5,2,1,4,2,3,6,7,8,8,0]\n",
    "listNum.count(4)"
   ]
  },
  {
   "cell_type": "markdown",
   "metadata": {},
   "source": [
    "Deescreva, em linhas gerais, o que é uma linguagem de programação, e para que serve.  "
   ]
  },
  {
   "cell_type": "code",
   "execution_count": 70,
   "metadata": {},
   "outputs": [
    {
     "name": "stdout",
     "output_type": "stream",
     "text": [
      "Uma linguagem de programação é um método utilizado para dar comandos para uma máquina, que pode ser um computador, um celular, uma câmera, enfim... qualquer hardware.\n"
     ]
    }
   ],
   "source": [
    "print('Uma linguagem de programação é um método utilizado para dar comandos para uma máquina, que pode ser um computador, um celular, uma câmera, enfim... qualquer hardware.')"
   ]
  },
  {
   "cell_type": "markdown",
   "metadata": {},
   "source": [
    "Feedback: o que você está achando do curso até agora?  "
   ]
  },
  {
   "cell_type": "markdown",
   "metadata": {},
   "source": [
    "R: Eu particularmente estou gostando do curso, só estou tendo um pouco de dificuldades com o Git."
   ]
  },
  {
   "cell_type": "code",
   "execution_count": null,
   "metadata": {
    "collapsed": true
   },
   "outputs": [],
   "source": []
  }
 ],
 "metadata": {
  "kernelspec": {
   "display_name": "Python 3",
   "language": "python",
   "name": "python3"
  },
  "language_info": {
   "codemirror_mode": {
    "name": "ipython",
    "version": 3
   },
   "file_extension": ".py",
   "mimetype": "text/x-python",
   "name": "python",
   "nbconvert_exporter": "python",
   "pygments_lexer": "ipython3",
   "version": "3.5.2+"
  }
 },
 "nbformat": 4,
 "nbformat_minor": 2
}
