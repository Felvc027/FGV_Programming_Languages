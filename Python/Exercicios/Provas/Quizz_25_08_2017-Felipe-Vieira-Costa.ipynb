{
 "cells": [
  {
   "cell_type": "markdown",
   "metadata": {},
   "source": [
    "1 - Dadas uma lista qualquer, como a do exemplo abaixo:"
   ]
  },
  {
   "cell_type": "code",
   "execution_count": 3,
   "metadata": {
    "collapsed": true
   },
   "outputs": [],
   "source": [
    "lista = [1,2,3,'4',5,6.3,7.4 + 2j,\"123\",[1,2,3], 93, \"98\", (1,2,3,'4')]"
   ]
  },
  {
   "cell_type": "markdown",
   "metadata": {},
   "source": [
    "Crie uma função recursiva para imprimir o antecessor e o sucessor de cada elemento de uma lista:\n",
    "+ Caso este elemento seja inteiro, imprimir o valor;  \n",
    "+ Caso seja uma string, imprimir o inteiro correspondente;  \n",
    "+ Caso seja um real, imprima a parte inteira;\n",
    "+ Caso seja um imaginário, imprima a parte inteira e real;\n",
    "+ Caso seja uma sequência, aplique as regras acima para cada elemento da sequência.  "
   ]
  },
  {
   "cell_type": "code",
   "execution_count": 4,
   "metadata": {},
   "outputs": [
    {
     "name": "stdout",
     "output_type": "stream",
     "text": [
      "0 e 2\n",
      "1 e 3\n",
      "2 e 4\n",
      "3 e 5\n",
      "4 e 6\n",
      "5 e 7\n",
      "6 e 8\n",
      "122 e 124\n",
      "0 e 2\n",
      "1 e 3\n",
      "2 e 4\n",
      "92 e 94\n",
      "97 e 99\n",
      "0 e 2\n",
      "1 e 3\n",
      "2 e 4\n",
      "3 e 5\n"
     ]
    }
   ],
   "source": [
    "def ante_suces(lista):\n",
    "    for i in lista:\n",
    "        if type(i) is int:\n",
    "            print(i - 1,'e',i + 1)\n",
    "        elif type(i) is str:\n",
    "            a = int(i)\n",
    "            print(a - 1,'e',a + 1)\n",
    "        elif type(i) is float:\n",
    "            b = int(i)\n",
    "            print(b - 1,'e',b + 1)\n",
    "        elif type(i) is complex:\n",
    "            c = i.real\n",
    "            d = int(c)\n",
    "            print(d - 1,'e',d + 1)\n",
    "        if type(i) is list or type(i) is tuple:\n",
    "            ante_suces(i)\n",
    "ante_suces(lista)"
   ]
  },
  {
   "cell_type": "markdown",
   "metadata": {},
   "source": [
    "2 - Crie uma função, ou conjunto de funções, para exibir por extenso o valor de qualquer número inteiro até 1000.  \n",
    "Exemplo:  \n",
    "\n",
    "    print(imprime_extenso(234))  \n",
    "    > 'duzentos e trinta e quatro'  "
   ]
  },
  {
   "cell_type": "code",
   "execution_count": 44,
   "metadata": {},
   "outputs": [
    {
     "name": "stdout",
     "output_type": "stream",
     "text": [
      "duzentos e quarenta e quatro\n"
     ]
    }
   ],
   "source": [
    "def imprime_extenso(num):\n",
    "    if num < 100:\n",
    "        centena = ''\n",
    "    elif num == 100:\n",
    "        print('cem')\n",
    "        return\n",
    "    elif num < 200:\n",
    "        centena = 'cento e'\n",
    "    elif num == 200:\n",
    "        print('duzentos')\n",
    "        return\n",
    "    elif num < 300:\n",
    "        centena = 'duzentos e'\n",
    "    elif num == 300:\n",
    "        print('trezentos')\n",
    "        return\n",
    "    elif num < 400:\n",
    "        centena = 'trezentos e'\n",
    "    elif num == 400:\n",
    "        print('quatrocentos')\n",
    "        return\n",
    "    elif num < 500:\n",
    "        centena = 'quatrocentos e'\n",
    "    elif num == 500:\n",
    "        print('quinhentos')\n",
    "        return\n",
    "    elif num < 600:\n",
    "        centena = 'quinhentos e'\n",
    "    elif num == 600:\n",
    "        print('seiscentos')\n",
    "        return\n",
    "    elif num < 700:\n",
    "        centena = 'seiscentos e'\n",
    "    elif num == 700:\n",
    "        print('setecentos')\n",
    "        return\n",
    "    elif num < 800:\n",
    "        centena = 'setecentos e'\n",
    "    elif num == 800:\n",
    "        print('oitocentos')\n",
    "        return\n",
    "    elif num < 900:\n",
    "        centena = 'oitocentos e'\n",
    "    elif num == 900:\n",
    "        print('novecentos')\n",
    "        return\n",
    "    elif num < 1000:\n",
    "        centena = 'novecentos e'\n",
    "    elif num == 1000:\n",
    "        print('mil')\n",
    "        return\n",
    "    if (num % 100) < 10:\n",
    "        dezena = ''\n",
    "    elif (num % 100) == 10:\n",
    "        dezena = 'dez'\n",
    "        print(centena,dezena)\n",
    "        return\n",
    "    elif (num % 100) == 11:\n",
    "        dezena = 'onze'\n",
    "        print(centena,dezena)\n",
    "        return\n",
    "    elif (num % 100) == 12:\n",
    "        dezena = 'doze'\n",
    "        print(centena,dezena)\n",
    "        return\n",
    "    elif (num % 100) == 13:\n",
    "        dezena = 'treze'\n",
    "        print(centena,dezena)\n",
    "        return\n",
    "    elif (num % 100) == 14:\n",
    "        dezena = 'catorze'\n",
    "        print(centena,dezena)\n",
    "        return\n",
    "    elif (num % 100) == 15:\n",
    "        dezena = 'quinze'\n",
    "        print(centena,dezena)\n",
    "        return\n",
    "    elif (num % 100) == 16:\n",
    "        dezena = 'dezesseis'\n",
    "        print(centena,dezena)\n",
    "        return\n",
    "    elif (num % 100) == 17:\n",
    "        dezena = 'dezessete'\n",
    "        print(centena,dezena)\n",
    "        return\n",
    "    elif (num % 100) == 18:\n",
    "        dezena = 'dezoito'\n",
    "        print(centena,dezena)\n",
    "        return\n",
    "    elif (num % 100) == 19:\n",
    "        dezena = 'dezenove'\n",
    "        print(centena,dezena)\n",
    "        return\n",
    "    elif (num % 100) == 20:\n",
    "        dezena = 'vinte'\n",
    "        print(centena,dezena)\n",
    "        return\n",
    "    elif (num % 100) < 30:\n",
    "        dezena = 'vinte e'\n",
    "    elif (num % 100) == 30:\n",
    "        dezena = 'trinta'\n",
    "        print(centena,dezena)\n",
    "        return\n",
    "    elif (num % 100) < 40:\n",
    "        dezena = 'trinta e'\n",
    "    elif (num % 100) == 40:\n",
    "        dezena = 'quarenta'\n",
    "        print(centena,dezena)\n",
    "        return\n",
    "    elif (num % 100) < 50:\n",
    "        dezena = 'quarenta e'\n",
    "    elif (num % 100) == 50:\n",
    "        dezena = 'cinquenta'\n",
    "        print(centena,dezena)\n",
    "        return\n",
    "    elif (num % 100) < 60:\n",
    "        dezena = 'cinquenta e'\n",
    "    elif (num % 100) == 60:\n",
    "        dezena = 'sessenta'\n",
    "        print(centena,dezena)\n",
    "        return\n",
    "    elif (num % 100) < 70:\n",
    "        dezena = 'sessenta e'\n",
    "    elif (num % 100) == 70:\n",
    "        dezena = 'setenta'\n",
    "        print(centena,dezena)\n",
    "        return\n",
    "    elif (num % 100) < 80:\n",
    "        dezena = 'setenta e'\n",
    "    elif (num % 100) == 80:\n",
    "        dezena = 'oitenta'\n",
    "        print(centena,dezena)\n",
    "        return\n",
    "    elif (num % 100) < 90:\n",
    "        dezena = 'oitenta e'\n",
    "    elif (num % 100) == 90:\n",
    "        dezena = 'noventa'\n",
    "        print(centena,dezena)\n",
    "        return\n",
    "    elif (num % 100) > 90:\n",
    "        dezena = 'noventa e'\n",
    "    if (num % 10) == 1:\n",
    "        unidade = 'um'\n",
    "    elif (num % 10) == 2:\n",
    "        unidade = 'dois'\n",
    "    elif (num % 10) == 3:\n",
    "        unidade = 'três'\n",
    "    elif (num % 10) == 4:\n",
    "        unidade = 'quatro'\n",
    "    elif (num % 10) == 5:\n",
    "        unidade = 'cinco'\n",
    "    elif (num % 10) == 6:\n",
    "        unidade = 'seis'\n",
    "    elif (num % 10) == 7:\n",
    "        unidade = 'sete'\n",
    "    elif (num % 10) == 8:\n",
    "        unidade = 'oito'\n",
    "    elif (num % 10) == 9:\n",
    "        unidade = 'nove'\n",
    "    print(centena,dezena,unidade)\n",
    "\n",
    "        "
   ]
  },
  {
   "cell_type": "code",
   "execution_count": 56,
   "metadata": {},
   "outputs": [
    {
     "name": "stdout",
     "output_type": "stream",
     "text": [
      "duzentos e quarenta e quatro\n"
     ]
    }
   ],
   "source": [
    "imprime_extenso(244)"
   ]
  },
  {
   "cell_type": "markdown",
   "metadata": {},
   "source": [
    "3- Em alguns lugares é comum lembrar um número do telefone associando seus dígitos a letras. Dessa maneira a expressão MY LOVE significa 69 5683. Claro que existem alguns problemas, uma vez que alguns números de telefone não formam uma palavra ou uma frase e os dígitos 1 e 0 não estão associados a nenhuma letra.  \n",
    "\n",
    "Sua tarefa é ler uma expressão e encontrar o número de telefone correspondente baseado na tabela abaixo. Uma expressão é composta por letras maiúsculas (A-Z), hifens (-) e os números 1 e 0.  \n",
    "\n",
    "Letras  ->  Número \n",
    "ABC    ->  2 \n",
    "DEF    ->  3 \n",
    "GHI    ->  4 \n",
    "JKL    ->  5 \n",
    "MNO    ->  6 \n",
    "PQRS    ->  7 \n",
    "TUV    ->  8 \n",
    "WXYZ   ->  9 \n",
    "\n",
    "Entrada  \n",
    "\n",
    "A entrada consiste de um conjunto de expressões. Cada expressão está sozinha em uma linha e possui C caracteres, onde 1 ≤ C ≤ 30. A entrada é terminada por fim de arquivo (EOF).  \n",
    "\n",
    "Saída  \n",
    "\n",
    "Para cada expressão você deve imprimir o número de telefone correspondente.  \n",
    "\n",
    "Exemplo de entrada:  \n",
    "\n",
    "1-HOME-SWEET-HOME  \n",
    "MY-MISERABLE-JOB  \n",
    "\n",
    "Saída correspondente:\n",
    "\n",
    "1-4663-79338-4663  \n",
    "69-647372253-562  "
   ]
  },
  {
   "cell_type": "code",
   "execution_count": 94,
   "metadata": {},
   "outputs": [],
   "source": [
    "def phone_find(expression):\n",
    "    text = expression.split('-')\n",
    "    texto = []\n",
    "    for i in text:\n",
    "        num = 0\n",
    "        c = 0\n",
    "        for j in i: \n",
    "            if j in 'ABC':\n",
    "                num += 2 * 10 ** (len(i) - c - 1)\n",
    "            elif j in 'DEF':\n",
    "                num += 3 * 10 ** (len(i) - c - 1)\n",
    "            elif j in 'GHI':\n",
    "                num += 4 * 10 ** (len(i) - c - 1)\n",
    "            elif j in 'JKL':\n",
    "                num += 5 * 10 ** (len(i) - c - 1)\n",
    "            elif j in 'MNO':\n",
    "                num += 6 * 10 ** (len(i) - c - 1)\n",
    "            elif j in 'PQRS':\n",
    "                num += 7 * 10 ** (len(i) - c - 1)\n",
    "            elif j in 'TUV':\n",
    "                num += 8 * 10 ** (len(i) - c - 1)\n",
    "            elif j in 'WXYZ':\n",
    "                num += 9 * 10 ** (len(i) - c - 1)\n",
    "            else:\n",
    "                num += int(j) * 10 ** (len(i) - c - 1)\n",
    "            c += 1\n",
    "        texto.append(str(num))\n",
    "    print('-'.join(texto))"
   ]
  },
  {
   "cell_type": "code",
   "execution_count": 95,
   "metadata": {},
   "outputs": [
    {
     "name": "stdout",
     "output_type": "stream",
     "text": [
      "Número de expressões:2\n",
      "1-HOME-SWEET-HOME\n",
      "1-4663-79338-4663\n",
      "MY-MISERABLE-JOB\n",
      "69-647372253-562\n"
     ]
    }
   ],
   "source": [
    "for i in range(0,int(input('Número de expressões:'))):\n",
    "    phone_find(input())"
   ]
  },
  {
   "cell_type": "markdown",
   "metadata": {},
   "source": [
    "4- Dada um texto em formato string, encontre todas as palavras pertencentes a esta string que contenham uma determinada letra, passada como parâmetro. "
   ]
  },
  {
   "cell_type": "code",
   "execution_count": 27,
   "metadata": {},
   "outputs": [
    {
     "name": "stdout",
     "output_type": "stream",
     "text": [
      "brasileiro\n",
      "oitenta\n",
      "do\n",
      "Sport\n",
      "o\n",
      "nao\n"
     ]
    }
   ],
   "source": [
    "text = 'O brasileiro de oitenta e sete e do Sport e o Palmeiras nao tem mundial'\n",
    "def encontra_palavras(text,letter):\n",
    "    palavras = text.split()\n",
    "    for i in palavras:\n",
    "        if letter in i:\n",
    "            print(i)\n",
    "encontra_palavras(text,'o')"
   ]
  }
 ],
 "metadata": {
  "kernelspec": {
   "display_name": "Python 3",
   "language": "python",
   "name": "python3"
  },
  "language_info": {
   "codemirror_mode": {
    "name": "ipython",
    "version": 3
   },
   "file_extension": ".py",
   "mimetype": "text/x-python",
   "name": "python",
   "nbconvert_exporter": "python",
   "pygments_lexer": "ipython3",
   "version": "3.5.2+"
  }
 },
 "nbformat": 4,
 "nbformat_minor": 2
}
