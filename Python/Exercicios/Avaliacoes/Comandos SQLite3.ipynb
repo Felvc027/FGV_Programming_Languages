{
 "cells": [
  {
   "cell_type": "code",
   "execution_count": null,
   "metadata": {},
   "outputs": [],
   "source": [
    "# Show Tables do Sqlite3\n",
    "cur.execute(\"SELECT name FROM my_db.sqlite_master WHERE type='table';\")\n",
    "# Describe Tables do Sqlite3\n",
    "cur.execute(\"PRAGMA table_info([tablename])\";)\n"
   ]
  }
 ],
 "metadata": {
  "kernelspec": {
   "display_name": "Python 3",
   "language": "python",
   "name": "python3"
  },
  "language_info": {
   "codemirror_mode": {
    "name": "ipython",
    "version": 3
   },
   "file_extension": ".py",
   "mimetype": "text/x-python",
   "name": "python",
   "nbconvert_exporter": "python",
   "pygments_lexer": "ipython3",
   "version": "3.5.2"
  }
 },
 "nbformat": 4,
 "nbformat_minor": 2
}
