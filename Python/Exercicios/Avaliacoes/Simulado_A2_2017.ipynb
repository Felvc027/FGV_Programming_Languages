{
 "cells": [
  {
   "cell_type": "markdown",
   "metadata": {},
   "source": [
    "Simulado da A2 de Linguagens de Programação – 17/11/2017\n",
    "--\n",
    "Professor: Renato Rocha Souza  \n",
    "--"
   ]
  },
  {
   "cell_type": "markdown",
   "metadata": {},
   "source": [
    "Nome do Aluno(a):"
   ]
  },
  {
   "cell_type": "code",
   "execution_count": 1,
   "metadata": {},
   "outputs": [
    {
     "name": "stdout",
     "output_type": "stream",
     "text": [
<<<<<<< HEAD
      "Entre com o seu nome completo: Felipe Vieira Costa\n",
      "Olá, Felipe Vieira Costa!\n",
=======
      "Entre com o seu nome completo: Eu\n",
      "Olá, Eu!\n",
>>>>>>> upstream/master
      "Bom trabalho!\n"
     ]
    }
   ],
   "source": [
    "meu_nome = input('Entre com o seu nome completo: ')\n",
    "print('Olá, {}!'.format(meu_nome))\n",
    "print('Bom trabalho!')"
   ]
  },
  {
   "cell_type": "code",
<<<<<<< HEAD
   "execution_count": 3,
=======
   "execution_count": 2,
>>>>>>> upstream/master
   "metadata": {},
   "outputs": [],
   "source": [
    "import numpy as np\n",
    "import matplotlib.pyplot as plt\n",
    "import requests\n",
    "import random\n",
    "import re\n",
    "import string\n",
    "import time\n",
    "import pymysql\n",
    "import sqlite3\n",
    "import getpass\n",
    "import pandas.io.sql as psql\n",
    "import networkx as nx\n",
    "from IPython.display import clear_output\n",
    "%matplotlib inline"
   ]
  },
  {
   "cell_type": "markdown",
   "metadata": {},
   "source": [
    "Questão 1 (2,0 pontos)  \n",
    "\n",
    "\n",
    "Utilizando Python, crie um banco de dados no sqlite que guarde a seguinte estrutura:\n",
    "\n",
    "\n",
    "| id (rowid) | nome (text)    | data_nascimento (text)    | peso (real) | altura (real) | imc (real) | Gênero  (text) |\n",
    "|--------------|----------------|---------------------------|-------------|---------------|------------|----------------|\n",
    "| 1            | Anitta         | \"1993-03-30 00:00:00.000\" | 56          | 162           | 0          | POP            |\n",
    "| 2            | Caetano Veloso | \"1942-08-07 00:00:00.000\" | 57          | 170           | 0          | MBP            |\n",
    "| 3            | Roberto Carlos | \"1941-04-19 00:00:00.000\" | 69          | 166           | 0          | MPB            |\n",
    "| 4            | Ivete Sangalo  | \"1972-05-27 00:00:00.000\" | 60          | 177           | 0          | AXÉ            |\n",
    "| 5            | Wesley Safadão | \"1988-09-06 00:00:00.000\" | 77          | 175           | 0          | POP            |\n",
    "\n",
    "\n",
    "Após a estrutura gerada, crie um script que calcule e corrija o IMC da tabela pela fórmula:  \n",
    "\n",
    "\n",
    "$\\large IMC = \\frac{Peso}{Altura^{2}}$\n",
    "\n",
    "\n",
    "Veja:  \n",
    "https://sqlite.org/datatype3.html    \n",
    "https://sqlite.org/autoinc.html  \n",
    "https://www.tutorialspoint.com/sqlite/sqlite_update_query.htm  "
   ]
  },
  {
   "cell_type": "code",
<<<<<<< HEAD
   "execution_count": 39,
   "metadata": {},
   "outputs": [
    {
     "data": {
      "text/plain": [
       "<sqlite3.Cursor at 0x7fb19a67f340>"
      ]
     },
     "execution_count": 39,
     "metadata": {},
     "output_type": "execute_result"
    }
   ],
   "source": [
    "conn = sqlite3.connect('cadastro_db')\n",
=======
   "execution_count": 6,
   "metadata": {},
   "outputs": [],
   "source": [
    "conn = sqlite3.connect('cadastro.sqlite')\n",
>>>>>>> upstream/master
    "cur = conn.cursor()\n",
    "\n",
    "cur.execute('''CREATE TABLE IF NOT EXISTS cantores\n",
    "(singer_id SMALLINT UNSIGNED AUTO_INCREMENT,\n",
    "nome VARCHAR(20),\n",
    "data_nascimento DATE,\n",
    "peso INTEGER(3),\n",
    "altura INTEGER(3),\n",
    "imc VARCHAR(4),\n",
    "genero VARCHAR(3));''')\n"
   ]
  },
  {
   "cell_type": "code",
   "execution_count": 21,
   "metadata": {},
   "outputs": [
    {
     "data": {
      "text/plain": [
       "<sqlite3.Cursor at 0x7fb19a6a0650>"
      ]
     },
     "execution_count": 21,
     "metadata": {},
     "output_type": "execute_result"
    }
   ],
   "source": [
    "cur.execute('''INSERT INTO cantores\n",
    "(nome,data_nascimento,peso,altura,genero)\n",
    "VALUES ('Anitta','1980-10-10','56','160','POP');''')"
   ]
  },
  {
   "cell_type": "code",
   "execution_count": 22,
   "metadata": {},
   "outputs": [
    {
     "data": {
      "text/plain": [
       "<sqlite3.Cursor at 0x7fb19a6a0650>"
      ]
     },
     "execution_count": 22,
     "metadata": {},
     "output_type": "execute_result"
    }
   ],
   "source": [
    "cur.execute('''INSERT INTO cantores\n",
    "(nome,data_nascimento,peso,altura,genero)\n",
    "VALUES ('Caetano Veloso','1956-01-23','57','165','MPB');''')"
   ]
  },
  {
   "cell_type": "code",
   "execution_count": 23,
   "metadata": {},
   "outputs": [
    {
     "data": {
      "text/plain": [
       "<sqlite3.Cursor at 0x7fb19a6a0650>"
      ]
     },
     "execution_count": 23,
     "metadata": {},
     "output_type": "execute_result"
    }
   ],
   "source": [
    "cur.execute('''INSERT INTO cantores\n",
    "(nome,data_nascimento,peso,altura,genero)\n",
    "VALUES ('Roberto Carlos','1943-05-12','69','172','MPB');''')"
   ]
  },
  {
   "cell_type": "code",
   "execution_count": 24,
   "metadata": {},
   "outputs": [
    {
     "data": {
      "text/plain": [
       "<sqlite3.Cursor at 0x7fb19a6a0650>"
      ]
     },
     "execution_count": 24,
     "metadata": {},
     "output_type": "execute_result"
    }
   ],
   "source": [
    "cur.execute('''INSERT INTO cantores\n",
    "(nome,data_nascimento,peso,altura,genero)\n",
    "VALUES ('Ivete Sangalo','1973-05-21','60','170','AXÉ');''')"
   ]
  },
  {
   "cell_type": "code",
   "execution_count": 25,
   "metadata": {},
   "outputs": [
    {
     "data": {
      "text/plain": [
       "<sqlite3.Cursor at 0x7fb19a6a0650>"
      ]
     },
     "execution_count": 25,
     "metadata": {},
     "output_type": "execute_result"
    }
   ],
   "source": [
    "cur.execute('''INSERT INTO cantores\n",
    "(nome,data_nascimento,peso,altura,genero)\n",
    "VALUES ('Wesley Safadão','1982-09-07','77','181','POP');''')"
   ]
  },
  {
   "cell_type": "code",
   "execution_count": 33,
   "metadata": {},
   "outputs": [
    {
     "ename": "TypeError",
     "evalue": "'builtin_function_or_method' object is not iterable",
     "output_type": "error",
     "traceback": [
      "\u001b[0;31m---------------------------------------------------------------------------\u001b[0m",
      "\u001b[0;31mTypeError\u001b[0m                                 Traceback (most recent call last)",
      "\u001b[0;32m<ipython-input-33-aaeed5e8ba3d>\u001b[0m in \u001b[0;36m<module>\u001b[0;34m()\u001b[0m\n\u001b[1;32m      1\u001b[0m \u001b[0mcur\u001b[0m\u001b[0;34m.\u001b[0m\u001b[0mexecute\u001b[0m\u001b[0;34m(\u001b[0m\u001b[0;34m'''UPDATE cantores SET imc = peso/altura/100*altura/100;'''\u001b[0m\u001b[0;34m)\u001b[0m\u001b[0;34m\u001b[0m\u001b[0m\n\u001b[0;32m----> 2\u001b[0;31m \u001b[0;32mfor\u001b[0m \u001b[0mrow\u001b[0m \u001b[0;32min\u001b[0m \u001b[0mcur\u001b[0m\u001b[0;34m.\u001b[0m\u001b[0mfetchall\u001b[0m\u001b[0;34m:\u001b[0m\u001b[0;34m\u001b[0m\u001b[0m\n\u001b[0m\u001b[1;32m      3\u001b[0m     \u001b[0mprint\u001b[0m\u001b[0;34m(\u001b[0m\u001b[0mrow\u001b[0m\u001b[0;34m)\u001b[0m\u001b[0;34m\u001b[0m\u001b[0m\n",
      "\u001b[0;31mTypeError\u001b[0m: 'builtin_function_or_method' object is not iterable"
     ]
    }
   ],
   "source": [
    "cur.execute('''UPDATE cantores SET imc = peso/altura/100*altura/100;''')\n"
   ]
  },
  {
   "cell_type": "code",
   "execution_count": 37,
   "metadata": {},
   "outputs": [
    {
     "ename": "TypeError",
     "evalue": "'builtin_function_or_method' object is not iterable",
     "output_type": "error",
     "traceback": [
      "\u001b[0;31m---------------------------------------------------------------------------\u001b[0m",
      "\u001b[0;31mTypeError\u001b[0m                                 Traceback (most recent call last)",
      "\u001b[0;32m<ipython-input-37-aedcf7e26175>\u001b[0m in \u001b[0;36m<module>\u001b[0;34m()\u001b[0m\n\u001b[1;32m      1\u001b[0m \u001b[0mcur\u001b[0m\u001b[0;34m.\u001b[0m\u001b[0mexecute\u001b[0m\u001b[0;34m(\u001b[0m\u001b[0;34m'''select * from cantores;'''\u001b[0m\u001b[0;34m)\u001b[0m\u001b[0;34m\u001b[0m\u001b[0m\n\u001b[0;32m----> 2\u001b[0;31m \u001b[0;32mfor\u001b[0m \u001b[0mrow\u001b[0m \u001b[0;32min\u001b[0m \u001b[0mcur\u001b[0m\u001b[0;34m.\u001b[0m\u001b[0mfetchall\u001b[0m\u001b[0;34m:\u001b[0m\u001b[0;34m\u001b[0m\u001b[0m\n\u001b[0m\u001b[1;32m      3\u001b[0m     \u001b[0mprint\u001b[0m\u001b[0;34m(\u001b[0m\u001b[0mrow\u001b[0m\u001b[0;34m)\u001b[0m\u001b[0;34m\u001b[0m\u001b[0m\n",
      "\u001b[0;31mTypeError\u001b[0m: 'builtin_function_or_method' object is not iterable"
     ]
    }
   ],
   "source": [
    "cur.execute('''select * from cantores;''')\n",
    "for row in cur.fetchall:\n",
    "    print(row)"
   ]
  },
  {
   "cell_type": "markdown",
   "metadata": {},
   "source": [
    "Questão 2 (2.0 pontos)  \n",
    "\n",
    "Conecte ao banco SQLite e responda:\n",
    "- Quantos artistas/bandas (artists) possuem nomes (Name) começando com a letra \"L\"?\n",
    "- Quais as 5 faixas (tracks) mais longas?\n",
    "- Qual o gênero (Genre) que possui, em média, as faixas (tracks) mais longas?\n",
    "- Qual o gênero (Genre) que possui, em média, as faixas (tracks) mais caras?"
   ]
  },
  {
   "cell_type": "code",
<<<<<<< HEAD
   "execution_count": 40,
=======
   "execution_count": 5,
>>>>>>> upstream/master
   "metadata": {},
   "outputs": [],
   "source": [
    "conn = sqlite3.connect('../../Dados/chinook.sqlite')\n",
<<<<<<< HEAD
    "cur = conn.cursor()"
=======
    "cur = conn.cursor()\n",
    "\n",
    "# seu código aqui"
>>>>>>> upstream/master
   ]
  },
  {
   "cell_type": "code",
   "execution_count": 41,
   "metadata": {},
   "outputs": [
    {
     "name": "stdout",
     "output_type": "stream",
     "text": [
      "('Led Zeppelin',)\n",
      "('Luiz Melodia',)\n",
      "('Legião Urbana',)\n",
      "('Lenny Kravitz',)\n",
      "('Lulu Santos',)\n",
      "('Lost',)\n",
      "('Los Lonely Boys',)\n",
      "('Los Hermanos',)\n",
      "('Luciana Souza/Romero Lubambo',)\n",
      "('London Symphony Orchestra & Sir Charles Mackerras',)\n",
      "('Luciano Pavarotti',)\n",
      "('Leonard Bernstein & New York Philharmonic',)\n",
      "('Les Arts Florissants & William Christie',)\n"
     ]
    }
   ],
   "source": [
    "cur.execute(\"SELECT name FROM artists WHERE name LIKE 'L%' \")\n",
    "for row in cur.fetchall():\n",
    "    print(row)\n"
   ]
  },
  {
   "cell_type": "code",
   "execution_count": 49,
   "metadata": {},
   "outputs": [
    {
     "ename": "OperationalError",
     "evalue": "no such table: cadastro_db.sqlite_master",
     "output_type": "error",
     "traceback": [
      "\u001b[0;31m---------------------------------------------------------------------------\u001b[0m",
      "\u001b[0;31mOperationalError\u001b[0m                          Traceback (most recent call last)",
      "\u001b[0;32m<ipython-input-49-2a9146254c5c>\u001b[0m in \u001b[0;36m<module>\u001b[0;34m()\u001b[0m\n\u001b[0;32m----> 1\u001b[0;31m \u001b[0mcur\u001b[0m\u001b[0;34m.\u001b[0m\u001b[0mexecute\u001b[0m\u001b[0;34m(\u001b[0m\u001b[0;34m\"SELECT name FROM cadastro_db.sqlite_master WHERE type='table';\"\u001b[0m\u001b[0;34m)\u001b[0m\u001b[0;34m\u001b[0m\u001b[0m\n\u001b[0m",
      "\u001b[0;31mOperationalError\u001b[0m: no such table: cadastro_db.sqlite_master"
     ]
    }
   ],
   "source": [
    "cur.execute(\"SELECT name FROM cadastro_db.sqlite_master WHERE type='table';\")"
   ]
  },
  {
   "cell_type": "code",
   "execution_count": null,
   "metadata": {},
   "outputs": [],
   "source": []
  },
  {
   "cell_type": "code",
   "execution_count": null,
   "metadata": {},
   "outputs": [],
   "source": []
  },
  {
   "cell_type": "markdown",
   "metadata": {},
   "source": [
    "Questão 3 (3.0 pontos)  (questão desafiante!!)\n",
    "\n",
    "Com o banco de dados da questão anterior, crie um grafo utilizando o pacote networkx do Python, de modo que os artistas estejam ligados ao gênero ao qual pertence a maioria de suas músicas. Diferencie com atributos os nós de artista e de gênero.\n",
    "\n",
    "https://networkx.github.io/  \n",
    "https://networkx.github.io/documentation/stable/tutorial.html#directed-graphs \n",
    "https://networkx.github.io/documentation/stable/tutorial.html#adding-attributes-to-graphs-nodes-and-edges  \n",
    "https://networkx.github.io/documentation/stable/tutorial.html#drawing-graphs  "
   ]
  },
  {
   "cell_type": "code",
   "execution_count": null,
   "metadata": {
    "collapsed": true
   },
   "outputs": [],
   "source": [
    "# seu código aqui"
   ]
  },
  {
   "cell_type": "markdown",
   "metadata": {
    "collapsed": true
   },
   "source": [
    "Questão 4 (1.5 pontos) \n",
    "\n",
    "Pedro, coitado, programa em R há muitos anos, mas gostaria de migrar para Python, uma linguagem muito mais poderosa. Ajude-o a converter o código abaixo para Python:  "
   ]
  },
  {
   "cell_type": "code",
   "execution_count": 12,
   "metadata": {},
   "outputs": [
    {
     "name": "stderr",
     "output_type": "stream",
     "text": [
      "UsageError: Cell magic `%%R` not found.\n"
     ]
    }
   ],
   "source": [
    "%%R\n",
    "\n",
    "countdown <- function(from)\n",
    "{\n",
    "  print(from)\n",
    "  while(from!=0)\n",
    "  {\n",
    "    Sys.sleep(1)\n",
    "    from <- from - 1\n",
    "    print(from)\n",
    "  }\n",
    "}\n",
    "\n",
    "countdown(5)"
   ]
  },
  {
   "cell_type": "code",
   "execution_count": 13,
   "metadata": {},
   "outputs": [
    {
     "name": "stdout",
     "output_type": "stream",
     "text": [
      "60\n",
      "59\n",
      "58\n",
      "57\n",
      "56\n",
      "55\n",
      "54\n",
      "53\n",
      "52\n",
      "51\n",
      "50\n",
      "49\n",
      "48\n",
      "47\n",
      "46\n",
      "45\n",
      "44\n",
      "43\n",
      "42\n",
      "41\n",
      "40\n",
      "39\n",
      "38\n",
      "37\n",
      "36\n",
      "35\n",
      "34\n",
      "33\n",
      "32\n",
      "31\n",
      "30\n",
      "29\n",
      "28\n",
      "27\n",
      "26\n",
      "25\n",
      "24\n",
      "23\n",
      "22\n",
      "21\n",
      "20\n",
      "19\n",
      "18\n",
      "17\n",
      "16\n",
      "15\n",
      "14\n",
      "13\n",
      "12\n",
      "11\n",
      "10\n",
      "9\n",
      "8\n",
      "7\n",
      "6\n",
      "5\n",
      "4\n",
      "3\n",
      "2\n",
      "1\n",
      "0\n"
     ]
    }
   ],
   "source": [
    "def countdown(a):\n",
    "    print(a)\n",
    "    while a != 0:\n",
    "        time.sleep(1)\n",
    "        a -= 1\n",
    "        print(a)\n",
    "\n",
    "countdown(60)"
   ]
  },
  {
   "cell_type": "markdown",
   "metadata": {},
   "source": [
    "Questão 5 (1.5 pontos) \n",
    "\n",
    "Vitória é uma excelente programadora em C. Nos últimos tempos - mas isso ela não admitiria - tem se convencido de que Python é uma escolha mais razoável para sua vida acadêmica. Ajude-a a converter o código abaixo para Python:    "
   ]
  },
  {
   "cell_type": "code",
   "execution_count": 47,
   "metadata": {},
   "outputs": [
    {
     "name": "stderr",
     "output_type": "stream",
     "text": [
      "UsageError: Cell magic `%%c` not found.\n"
     ]
    }
   ],
   "source": [
    "%%C\n",
    "include <stdio.h>\n",
    "int main()\n",
    "{\n",
    "    int n, reversedInteger = 0, remainder, originalInteger;\n",
    "\n",
    "    printf(\"Enter an integer: \");\n",
    "    scanf(\"%d\", &n);\n",
    "\n",
    "    originalInteger = n;\n",
    "\n",
    "    // reversed integer is stored in variable \n",
    "    while( n!=0 )\n",
    "    {\n",
    "        remainder = n%10;\n",
    "        reversedInteger = reversedInteger*10 + remainder;\n",
    "        n /= 10;\n",
    "    }\n",
    "\n",
    "    // palindrome if orignalInteger and reversedInteger are equal\n",
    "    if (originalInteger == reversedInteger)\n",
    "        printf(\"%d is a palindrome.\", originalInteger);\n",
    "    else\n",
    "        printf(\"%d is not a palindrome.\", originalInteger);\n",
    "    \n",
    "    return 0;\n",
    "}"
   ]
  },
  {
   "cell_type": "code",
   "execution_count": 11,
   "metadata": {},
   "outputs": [
    {
     "name": "stdout",
     "output_type": "stream",
     "text": [
      "Enter an integer: 1234554321\n",
      "1234554321 is a palindrome.\n"
     ]
    }
   ],
   "source": [
    "n = int(input('Enter an integer: '))\n",
    "reversedInteger = 0\n",
    "originalInteger = n\n",
    "# reversed integer is stored in variable\n",
    "while n != 0:\n",
    "    remainder = n % 10\n",
    "    reversedInteger = reversedInteger*10 + remainder\n",
    "    n = int(n/10)\n",
    "# palindrome if originalInteger and reverse Integer are equal\n",
    "if originalInteger == reversedInteger:\n",
    "    print('{} is a palindrome.'.format(originalInteger))\n",
    "else:\n",
    "    print('{} is not a palindrome.'.format(originalInteger))"
   ]
  },
  {
   "cell_type": "markdown",
   "metadata": {},
   "source": [
    "Questão Bônus (0,5 pontos)  \n",
    "\n",
    "Alexandrino gosta muito de LISP, mas - poucos sabem - secretamente acalenta o sonho de programar em Python. \n",
    "Ajude-o a converter o código abaixo para Python:  "
   ]
  },
  {
   "cell_type": "code",
   "execution_count": null,
   "metadata": {
    "collapsed": true
   },
   "outputs": [],
   "source": [
    "(defun get-max-value (list)\n",
    "  (let ((ans (first list)))\n",
    "    (do ((i 1 (1+ i)))\n",
    "        ((>= i (length list)) ans)\n",
    "      (when (> (nth i list) ans)\n",
    "        (setf ans (nth i list))))))"
   ]
  },
  {
   "cell_type": "code",
<<<<<<< HEAD
   "execution_count": 14,
   "metadata": {},
=======
   "execution_count": null,
   "metadata": {
    "collapsed": true
   },
>>>>>>> upstream/master
   "outputs": [],
   "source": [
    "def get_max_value(lista):\n",
    "    ans = lista[0]\n",
    "    for i in range(len(lista)-1):\n",
    "        if lista[i+1] > ans:\n",
    "            ans = lista[i+1]\n",
    "    return ans\n",
    "\n",
    "            "
   ]
  },
  {
   "cell_type": "code",
   "execution_count": 15,
   "metadata": {},
   "outputs": [
    {
     "data": {
      "text/plain": [
       "744"
      ]
     },
     "execution_count": 15,
     "metadata": {},
     "output_type": "execute_result"
    }
   ],
   "source": [
    "lista = [2,3,15,3,57,34,7,46,744,5,12,2,4,65,6]\n",
    "get_max_value(lista)"
   ]
  },
  {
   "cell_type": "code",
   "execution_count": null,
   "metadata": {},
   "outputs": [],
   "source": []
  }
 ],
 "metadata": {
  "kernelspec": {
   "display_name": "Python 3",
   "language": "python",
   "name": "python3"
  },
  "language_info": {
   "codemirror_mode": {
    "name": "ipython",
    "version": 3
   },
   "file_extension": ".py",
   "mimetype": "text/x-python",
   "name": "python",
   "nbconvert_exporter": "python",
   "pygments_lexer": "ipython3",
   "version": "3.5.2"
  }
 },
 "nbformat": 4,
 "nbformat_minor": 1
}
